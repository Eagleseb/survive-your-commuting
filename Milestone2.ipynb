{
 "cells": [
  {
   "cell_type": "markdown",
   "metadata": {},
   "source": [
    "# Survive your commuting\n",
    "INTRO: data from 1979 to 2015 etc."
   ]
  },
  {
   "cell_type": "markdown",
   "metadata": {},
   "source": [
    "## To do:\n",
    "+ Explore data and deal with Nan values, outsanding values etc\n",
    "+ Check whether we can work with all periodes (in terms of volume of data + consistency between datasets ?)\n",
    "+ Categorize features (date, position etc.) and choose relevant ones (nice and easy to use + information)\n",
    "+ Turn data into a format we can work with (dummy variables, easy to visualize, date format etc.)\n",
    "+ function which returns the categorical value of dummified value"
   ]
  },
  {
   "cell_type": "markdown",
   "metadata": {},
   "source": [
    "## Somes questions we can answer:\n",
    "+ Accident per age and gender (cliché: young, men)\n",
    "+ Casualties per age  and gender(cliché: children & elderlies)\n",
    "+ Weather and road conditions dependency\n",
    "+ passenger: safest place ? ou la place du mort (cars and bus)\n",
    "+ home area type: accidents at home or in different area ? (citadins duper à la campagne et vice versa)\n",
    "+ dates linked to special events etc.\n",
    "\n",
    "+ nice viz (maps vith every accidents (comme pour la dataset français))"
   ]
  },
  {
   "cell_type": "code",
   "execution_count": 1,
   "metadata": {},
   "outputs": [],
   "source": [
    "#import\n",
    "import os\n",
    "import pandas as pd\n",
    "import numpy as np"
   ]
  },
  {
   "cell_type": "code",
   "execution_count": 2,
   "metadata": {},
   "outputs": [],
   "source": [
    "#Global\n",
    "DATA_FOLDER = './data/Stats19_Data_2005-2014/'\n",
    "\n",
    "#columns we want to extract from the accidents file\n",
    "acc_cols = [#Space and time context\n",
    "            'Date','Time', 'Longitude', 'Latitude','Day_of_Week',\n",
    "            #Identifier\n",
    "            'Accident_Index', \n",
    "            #Police force related\n",
    "            'Police_Force', 'Local_Authority_(District)', 'Local_Authority_(Highway)','Did_Police_Officer_Attend_Scene_of_Accident',\n",
    "            #Casualties\n",
    "            'Accident_Severity', 'Number_of_Casualties','Number_of_Vehicles',\n",
    "            #Road conditions and traffic signalisations\n",
    "            '1st_Road_Class', '1st_Road_Number', 'Road_Type', 'Speed_limit', 'Junction_Detail', 'Junction_Control',\n",
    "            '2nd_Road_Class', '2nd_Road_Number',\n",
    "            #Pedestrian \n",
    "            'Pedestrian_Crossing-Human_Control', 'Pedestrian_Crossing-Physical_Facilities', \n",
    "            #Visibility and road conditions\n",
    "            'Light_Conditions', 'Weather_Conditions', 'Road_Surface_Conditions', 'Special_Conditions_at_Site', 'Carriageway_Hazards',\n",
    "            'Urban_or_Rural_Area', \n",
    "            #'Location_Easting_OSGR','Location_Northing_OSGR', 'LSOA_of_Accident_Location',\n",
    "           ]"
   ]
  },
  {
   "cell_type": "code",
   "execution_count": 3,
   "metadata": {},
   "outputs": [],
   "source": [
    "#HELPERS\n",
    "\n",
    "#TO DO: colors set (la c'est immonde), remplacer les numéros de jours par les vrais jours, virer la ligne du out pour jutse avoir le graphe\n",
    "\n",
    "def plot_distrib(acc, colname, group = \"Day_of_Week\"):\n",
    "    \"\"\"\n",
    "    Plot the distribution of colname per group\n",
    "    \"\"\"\n",
    "    if colname == 'Accident_Index':\n",
    "        acc.groupby([group])[colname].count().sort_values().plot.bar(x = group, \n",
    "                                                                           y = colname,\n",
    "                                                                          title = colname + ' distribution per '+ group +', 0514',\n",
    "                                                                          sort_columns = True)\n",
    "    else:\n",
    "        acc.groupby([group])[colname].sum().sort_values().plot.bar(x = group, \n",
    "                                                                           y = colname,\n",
    "                                                                          title = colname + ' distribution per '+ group +', 0514',\n",
    "                                                                          sort_columns = True)                        \n"
   ]
  },
  {
   "cell_type": "code",
   "execution_count": 14,
   "metadata": {},
   "outputs": [],
   "source": [
    "#load accident sets\n",
    "\n",
    "accidents = pd.read_csv(DATA_FOLDER + \"Accidents0514.csv\", \n",
    "                        usecols = acc_cols,\n",
    "                                },\n",
    "                       parse_dates = [[\"Date\",\"Time\"]],\n",
    "                       )\n",
    "\n",
    "casualties = pd.read_csv(DATA_FOLDER + \"Casualties0514.csv\",\n",
    "                        )\n"
   ]
  },
  {
   "cell_type": "code",
   "execution_count": 16,
   "metadata": {},
   "outputs": [
    {
     "data": {
      "text/plain": [
       "Index(['Accident_Index', 'Vehicle_Reference', 'Casualty_Reference',\n",
       "       'Casualty_Class', 'Sex_of_Casualty', 'Age_of_Casualty',\n",
       "       'Age_Band_of_Casualty', 'Casualty_Severity', 'Pedestrian_Location',\n",
       "       'Pedestrian_Movement', 'Car_Passenger', 'Bus_or_Coach_Passenger',\n",
       "       'Pedestrian_Road_Maintenance_Worker', 'Casualty_Type',\n",
       "       'Casualty_Home_Area_Type'],\n",
       "      dtype='object')"
      ]
     },
     "execution_count": 16,
     "metadata": {},
     "output_type": "execute_result"
    }
   ],
   "source": [
    "casualties.columns"
   ]
  },
  {
   "cell_type": "code",
   "execution_count": 5,
   "metadata": {},
   "outputs": [],
   "source": [
    "#Weekly distribution\n",
    "plot_distrib(accidents, \"Accident_Index\")"
   ]
  },
  {
   "cell_type": "markdown",
   "metadata": {},
   "source": [
    "> Almost the same distri for the week. But Sunday is the lowest (people are doing nothing at home ?) and Friday is the worst (end of week = tired + party + départ en we ?)"
   ]
  },
  {
   "cell_type": "code",
   "execution_count": 6,
   "metadata": {},
   "outputs": [
    {
     "data": {
      "image/png": "[encoded data removed]",
      "text/plain": [
       "<Figure size 432x288 with 1 Axes>"
      ]
     },
     "metadata": {},
     "output_type": "display_data"
    }
   ],
   "source": [
    "plot_distrib(accidents, \"Number_of_Casualties\")"
   ]
  },
  {
   "cell_type": "code",
   "execution_count": 7,
   "metadata": {},
   "outputs": [
    {
     "data": {
      "image/png": "[encoded data removed]",
      "text/plain": [
       "<Figure size 432x288 with 1 Axes>"
      ]
     },
     "metadata": {},
     "output_type": "display_data"
    }
   ],
   "source": [
    "plot_distrib(accidents, \"Number_of_Vehicles\")"
   ]
  },
  {
   "cell_type": "markdown",
   "metadata": {},
   "source": [
    "> Plus de  blessés mais moins de véhicules le Dimanche que le Lundi, car le Dimanche = voiture en famille aka moins de voitures alors que Lundi = commute = tout seul dans sa caisse"
   ]
  },
  {
   "cell_type": "code",
   "execution_count": 8,
   "metadata": {},
   "outputs": [
    {
     "data": {
      "image/png": "[encoded data removed]",
      "text/plain": [
       "<Figure size 432x288 with 1 Axes>"
      ]
     },
     "metadata": {},
     "output_type": "display_data"
    }
   ],
   "source": [
    "plot_distrib(accidents, \"Accident_Index\", \"Light_Conditions\")"
   ]
  },
  {
   "cell_type": "code",
   "execution_count": 9,
   "metadata": {},
   "outputs": [
    {
     "data": {
      "image/png": "[encoded data removed]",
      "text/plain": [
       "<Figure size 432x288 with 1 Axes>"
      ]
     },
     "metadata": {},
     "output_type": "display_data"
    }
   ],
   "source": [
    "plot_distrib(accidents, \"Accident_Index\", \"Weather_Conditions\")"
   ]
  },
  {
   "cell_type": "markdown",
   "metadata": {},
   "source": [
    "> On va avoir besoin de diviser par la fréquence de chaque conditions => besoin de plus de données"
   ]
  },
  {
   "cell_type": "code",
   "execution_count": 10,
   "metadata": {},
   "outputs": [
    {
     "data": {
      "text/plain": [
       "Index(['Date_Time', 'Accident_Index', 'Longitude', 'Latitude', 'Police_Force',\n",
       "       'Accident_Severity', 'Number_of_Vehicles', 'Number_of_Casualties',\n",
       "       'Day_of_Week', 'Local_Authority_(District)',\n",
       "       'Local_Authority_(Highway)', '1st_Road_Class', '1st_Road_Number',\n",
       "       'Road_Type', 'Speed_limit', 'Junction_Detail', 'Junction_Control',\n",
       "       '2nd_Road_Class', '2nd_Road_Number',\n",
       "       'Pedestrian_Crossing-Human_Control',\n",
       "       'Pedestrian_Crossing-Physical_Facilities', 'Light_Conditions',\n",
       "       'Weather_Conditions', 'Road_Surface_Conditions',\n",
       "       'Special_Conditions_at_Site', 'Carriageway_Hazards',\n",
       "       'Urban_or_Rural_Area', 'Did_Police_Officer_Attend_Scene_of_Accident'],\n",
       "      dtype='object')"
      ]
     },
     "execution_count": 10,
     "metadata": {},
     "output_type": "execute_result"
    }
   ],
   "source": [
    "accidents.columns"
   ]
  },
  {
   "cell_type": "code",
   "execution_count": null,
   "metadata": {},
   "outputs": [],
   "source": []
  }
 ],
 "metadata": {
  "kernelspec": {
   "display_name": "Python 3",
   "language": "python",
   "name": "python3"
  },
  "language_info": {
   "codemirror_mode": {
    "name": "ipython",
    "version": 3
   },
   "file_extension": ".py",
   "mimetype": "text/x-python",
   "name": "python",
   "nbconvert_exporter": "python",
   "pygments_lexer": "ipython3",
   "version": "3.6.5"
  }
 },
 "nbformat": 4,
 "nbformat_minor": 2
}
